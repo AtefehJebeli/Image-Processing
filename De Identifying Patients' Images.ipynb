{
 "cells": [
  {
   "cell_type": "markdown",
   "metadata": {},
   "source": [
    "De Identifying all types of patients' images with an executable application for running on users' pc."
   ]
  },
  {
   "cell_type": "code",
   "execution_count": null,
   "metadata": {},
   "outputs": [],
   "source": [
    "# pip install opencv-python"
   ]
  },
  {
   "cell_type": "code",
   "execution_count": 8,
   "metadata": {},
   "outputs": [],
   "source": [
    "import cv2\n",
    "import os\n",
    "import matplotlib.pyplot as plt\n",
    "import numpy as np\n",
    "from scipy.stats import pearsonr\n",
    "import os\n",
    "import datetime"
   ]
  },
  {
   "cell_type": "code",
   "execution_count": null,
   "metadata": {},
   "outputs": [],
   "source": [
    "# .exe\n",
    "import tkinter as tk\n",
    "\n",
    "root= tk.Tk()\n",
    "root.title(\"De Identifying Patients' images.\")\n",
    "canvas1 = tk.Canvas(root, width = 300, height = 300)\n",
    "canvas1.pack()\n",
    "\n",
    "def hello ():  \n",
    "    label1 = tk.Label(root, text= \"Removing patients' confidential information\", fg='green', font=('helvetica', 12, 'bold'))\n",
    "    canvas1.create_window(150, 200, window=label1)\n",
    "    \n",
    "\n",
    "    button1 = tk.Button(root, text='Start',command=procees_images_with_contours(), bg='brown',fg='white')\n",
    "    canvas1.create_window(150, 150, window=button1)\n",
    "\n",
    "\n",
    "root.mainloop()"
   ]
  },
  {
   "cell_type": "code",
   "execution_count": 8,
   "metadata": {},
   "outputs": [],
   "source": [
    "# First,Create .py\n",
    "#pyinstaller --onefile De-Identification.py\n",
    "#pyinstaller --onefile pythonScriptName.ipynb\n",
    "#cd C:\\Users\\jebeli\n",
    "# ipython nbconvert --to python De-Identification.ipynb\n",
    "\n",
    "# Second,get cv2 path and add to .exe code\n",
    "#pyinstaller --onefile De-Identification.py --paths \"C:\\Users\\jebeli\\PycharmProjects\\untitled\\venv\\lib\\site-packages\\cv2\"\n",
    "# C:\\Users\\jebeli\\PycharmProjects\\De_Identification\\venv\\lib\\site-packages\\cv2\\__init__.py\n",
    "#print(\"Start\")\n",
    "#print(cv2.__file__)"
   ]
  },
  {
   "cell_type": "code",
   "execution_count": 9,
   "metadata": {},
   "outputs": [
    {
     "name": "stdout",
     "output_type": "stream",
     "text": [
      "Current directory C:\\Users\\mahsa\\Project\\Image-Proccessing\n"
     ]
    }
   ],
   "source": [
    "path = os.getcwd()\n",
    "print(\"Current directory\", path)"
   ]
  },
  {
   "cell_type": "code",
   "execution_count": 10,
   "metadata": {},
   "outputs": [
    {
     "name": "stdout",
     "output_type": "stream",
     "text": [
      "Current directory C:\\Users\\mahsa\\Project\\Image-Proccessing\n"
     ]
    }
   ],
   "source": [
    "# Create Contoured_images and Processed_images folders.\n",
    "path = os.getcwd()\n",
    "print(\"Current directory\", path)\n",
    "\n",
    "contoured_path = path + '\\Contoured'\n",
    "if not os.path.exists(contoured_path):\n",
    "    os.makedirs(contoured_path)\n",
    "    \n",
    "    \n",
    "processed_path = path + '\\Processed'\n",
    "if not os.path.exists(processed_path):\n",
    "    os.makedirs(processed_path)    \n",
    "    "
   ]
  },
  {
   "cell_type": "code",
   "execution_count": 11,
   "metadata": {},
   "outputs": [],
   "source": [
    "# De-Identify patients' image names.\n",
    "def change_name(name):\n",
    "    result = ''\n",
    "    for s in name:\n",
    "        if s.isalpha():\n",
    "            s = 'x'\n",
    "            result += s\n",
    "        else:\n",
    "            result += s\n",
    "    return result\n"
   ]
  },
  {
   "cell_type": "markdown",
   "metadata": {},
   "source": [
    "First Solution"
   ]
  },
  {
   "cell_type": "code",
   "execution_count": 12,
   "metadata": {},
   "outputs": [],
   "source": [
    "# Use contours to remove the patients' information from images.\n",
    "def procees_images_with_contours():\n",
    "    for _, _, files in os.walk(path + '\\Images'):\n",
    " \n",
    "        for name in files:\n",
    "            if name != '.DS_Store' and name.endswith('.jpg'or'.png'):\n",
    "                # load image\n",
    "                original = cv2.imread(os.path.join(path + '\\Images', name))\n",
    "                # make copy of image\n",
    "                if original is None:\n",
    "                    break\n",
    "                image = original.copy()\n",
    "                #convert image to grayscale for processing\n",
    "                gray = cv2.cvtColor(image, cv2.COLOR_BGR2GRAY)\n",
    "\n",
    "                # get image width and height\n",
    "                image_width, image_height = gray.shape[0], gray.shape[1]\n",
    "                \n",
    "    \n",
    "                # get the contours of gray scale image\n",
    "                # we use RETR_EXTERNAL to get the outer contours\n",
    "                contours, hierarchy = cv2.findContours(gray, cv2.RETR_EXTERNAL, cv2.CHAIN_APPROX_SIMPLE)\n",
    "\n",
    "                for cnt in contours:\n",
    "                    # get bounding rectangle of each of the contours\n",
    "                    \n",
    "                    (x, y, w, h) = cv2.boundingRect(cnt)\n",
    "                    \n",
    "                    # do checks to find our top rectangle\n",
    "                    if w > image_width * 0.9 and h < image_height * 0.4 and x+h < image_height * .1:\n",
    "                        # crete contoured image\n",
    "                \n",
    "                        \n",
    "                        contoured_image = cv2.rectangle(image, (x, y), (x + w, y + h), (0, 255, 0), 2)\n",
    "\n",
    "                        # save contoured image\n",
    "                        plt.imsave(contoured_path + '\\\\'+ name, contoured_image)\n",
    "                        \n",
    "\n",
    "                        # draw contoured image (for debugging, not needed in .exe program)\n",
    "                        # cv2.imshow(\"Contour\", contoured_image)\n",
    "                        # cv2.waitKey(0)\n",
    "\n",
    "                        # produce output image\n",
    "                        output = original[h:][:][:]\n",
    "                        \n",
    "\n",
    "                        # draw contoured image (for debugging, not needed in .exe program)\n",
    "                        #cv2.imshow(\"Output\", output)\n",
    "                        # cv2.waitKey(0)\n",
    "\n",
    "                        # save output image in Processed_Contours folder\n",
    "                        original_name= name\n",
    "                        print('The origional name:' + original_name)\n",
    "                        new_name= change_name(name)\n",
    "                       # print(path +'\\\\Processed_Contours\\\\' + new_name + '.jpg')\n",
    "                        cv2.imwrite(processed_path + '\\\\'+ new_name + '.jpg', output)\n",
    "                        print('The new name:' + new_name)"
   ]
  },
  {
   "cell_type": "code",
   "execution_count": 13,
   "metadata": {},
   "outputs": [],
   "source": [
    "# Top\n",
    "#if w > image_width * 0.9 and h < image_height * 0.4 and x+h < image_height * .1:\n",
    "# Left\n",
    "##if h > image_height * 0.9 and w < image_width * 0.4 and x+w < image_width * .1:\n",
    "# Right\n",
    "##if h > image_height * 0.9 and w < image_width * 0.4 and x+w < image_height * .1:\n",
    "# Bottom    \n",
    "#if w > image_width * 0.9 and h < image_height * 0.4 and x+h < image_height * .1:\n"
   ]
  },
  {
   "cell_type": "code",
   "execution_count": 14,
   "metadata": {},
   "outputs": [
    {
     "name": "stdout",
     "output_type": "stream",
     "text": [
      "The origional name:49999_4-3-19_UELAND_FRED(1).jpg\n",
      "The new name:49999_4-3-19_xxxxxx_xxxx(1).xxx\n",
      "The origional name:49999_4-3-19_UELAND_FRED(2).jpg\n",
      "The new name:49999_4-3-19_xxxxxx_xxxx(2).xxx\n",
      "The origional name:49999_4-3-19_UELAND_FRED(3).jpg\n",
      "The new name:49999_4-3-19_xxxxxx_xxxx(3).xxx\n",
      "The origional name:4999_5-14-19_VANNAGELL_2.jpg\n",
      "The new name:4999_5-14-19_xxxxxxxxx_2.xxx\n",
      "The origional name:4999_5-14-19_VANNAGELL_3.jpg\n",
      "The new name:4999_5-14-19_xxxxxxxxx_3.xxx\n",
      "The origional name:5769_5-7-19_PAVLIK_ED-1.jpg\n",
      "The new name:5769_5-7-19_xxxxxx_xx-1.xxx\n",
      "The origional name:5769_5-7-19_PAVLIK_ED-2.jpg\n",
      "The new name:5769_5-7-19_xxxxxx_xx-2.xxx\n",
      "The origional name:5769_5-7-19_PAVLIK_ED-3.jpg\n",
      "The new name:5769_5-7-19_xxxxxx_xx-3.xxx\n",
      "The origional name:801_5-1-19_DIETRICH_CHUCK_1.jpg\n",
      "The new name:801_5-1-19_xxxxxxxx_xxxxx_1.xxx\n",
      "The origional name:801_5-1-19_DIETRICH_CHUCK_2.jpg\n",
      "The new name:801_5-1-19_xxxxxxxx_xxxxx_2.xxx\n",
      "The origional name:801_5-1-19_DIETRICH_CHUCK_3.jpg\n",
      "The new name:801_5-1-19_xxxxxxxx_xxxxx_3.xxx\n",
      "The origional name:49999_4-3-19_UELAND_FRED(1).jpg\n",
      "The new name:49999_4-3-19_xxxxxx_xxxx(1).xxx\n",
      "The origional name:49999_4-3-19_UELAND_FRED(2).jpg\n",
      "The new name:49999_4-3-19_xxxxxx_xxxx(2).xxx\n",
      "The origional name:49999_4-3-19_UELAND_FRED(3).jpg\n",
      "The new name:49999_4-3-19_xxxxxx_xxxx(3).xxx\n",
      "The origional name:4999_5-14-19_VANNAGELL_2.jpg\n",
      "The new name:4999_5-14-19_xxxxxxxxx_2.xxx\n",
      "The origional name:4999_5-14-19_VANNAGELL_3.jpg\n",
      "The new name:4999_5-14-19_xxxxxxxxx_3.xxx\n",
      "The origional name:5769_5-7-19_PAVLIK_ED-1.jpg\n",
      "The new name:5769_5-7-19_xxxxxx_xx-1.xxx\n",
      "The origional name:5769_5-7-19_PAVLIK_ED-2.jpg\n",
      "The new name:5769_5-7-19_xxxxxx_xx-2.xxx\n",
      "The origional name:5769_5-7-19_PAVLIK_ED-3.jpg\n",
      "The new name:5769_5-7-19_xxxxxx_xx-3.xxx\n",
      "The origional name:801_5-1-19_DIETRICH_CHUCK_1.jpg\n",
      "The new name:801_5-1-19_xxxxxxxx_xxxxx_1.xxx\n",
      "The origional name:801_5-1-19_DIETRICH_CHUCK_2.jpg\n",
      "The new name:801_5-1-19_xxxxxxxx_xxxxx_2.xxx\n",
      "The origional name:801_5-1-19_DIETRICH_CHUCK_3.jpg\n",
      "The new name:801_5-1-19_xxxxxxxx_xxxxx_3.xxx\n"
     ]
    }
   ],
   "source": [
    "procees_images_with_contours()"
   ]
  },
  {
   "cell_type": "code",
   "execution_count": 15,
   "metadata": {},
   "outputs": [],
   "source": [
    "# Use contours to remove the patients' information from images.\n",
    "def procees_images_with_contours_Original():\n",
    "    for _, _, files in os.walk(path + '\\Original'):\n",
    " \n",
    "        for name in files:\n",
    "            if name != '.DS_Store' and name.endswith('.jpg'or'.png'):\n",
    "                # load image\n",
    "                original = cv2.imread(os.path.join(path + '\\Original', name))\n",
    "                # make copy of image\n",
    "                if original is None:\n",
    "                    break\n",
    "                image = original.copy()\n",
    "                #convert image to grayscale for processing\n",
    "                gray = cv2.cvtColor(image, cv2.COLOR_BGR2GRAY)\n",
    "\n",
    "                # get image width and height\n",
    "                image_width, image_height = gray.shape[0], gray.shape[1]\n",
    "                print(image_width, image_height)\n",
    "                \n",
    "    \n",
    "                # get the contours of gray scale image\n",
    "                # we use RETR_EXTERNAL to get the outer contours\n",
    "                contours, hierarchy = cv2.findContours(gray, cv2.RETR_EXTERNAL, cv2.CHAIN_APPROX_SIMPLE)\n",
    "\n",
    "                for cnt in contours:\n",
    "                    # get bounding rectangle of each of the contours\n",
    "                    \n",
    "                    (x, y, w, h) = cv2.boundingRect(cnt)\n",
    "                    \n",
    "                    # do checks to find our top rectangle\n",
    "                    if w > image_width * 0.9 and h < image_height * 0.4 and x+h < image_height * .1:\n",
    "                        # crete contoured image\n",
    "                        print(x, y, w, h)\n",
    "                        print(image_width, image_height)\n",
    "                        \n",
    "                        contoured_image = cv2.rectangle(image, (x, y), (x + w, y + h), (0, 255, 0), 2)\n",
    "\n",
    "                        # save contoured image\n",
    "                        plt.imsave(path + '\\\\Contoured\\\\' + name, contoured_image)\n",
    "                        \n",
    "\n",
    "                        # draw contoured image (for debugging, not needed in .exe program)\n",
    "                        # cv2.imshow(\"Contour\", contoured_image)\n",
    "                        # cv2.waitKey(0)\n",
    "\n",
    "                        # produce output image\n",
    "                        output = original[h:][:][:]\n",
    "                        \n",
    "\n",
    "                        # draw contoured image (for debugging, not needed in .exe program)\n",
    "                        #cv2.imshow(\"Output\", output)\n",
    "                        # cv2.waitKey(0)\n",
    "\n",
    "                        # save output image in Processed_Contours folder\n",
    "                        original_name= name\n",
    "                        print('The origional name:' + original_name)\n",
    "                        new_name= change_name(name)\n",
    "                       # print(path +'\\\\Processed_Contours\\\\' + new_name + '.jpg')\n",
    "                        cv2.imwrite(path +'/Processed_Contours/' + new_name + '.jpg', output)\n",
    "                        print('The new name:' + new_name)"
   ]
  },
  {
   "cell_type": "markdown",
   "metadata": {},
   "source": [
    "Second solution "
   ]
  },
  {
   "cell_type": "code",
   "execution_count": 16,
   "metadata": {},
   "outputs": [
    {
     "name": "stdout",
     "output_type": "stream",
     "text": [
      "C:\\Users\\mahsa\\Project\\Image-Proccessing\n"
     ]
    }
   ],
   "source": [
    "# images path\n",
    "path = os.getcwd()\n",
    "print(path)"
   ]
  },
  {
   "cell_type": "code",
   "execution_count": 17,
   "metadata": {},
   "outputs": [],
   "source": [
    "# Use the Pearson correlation to remove the patients' information from images.\n",
    "def procees_images_with_correlations():\n",
    "    for _, _ , files in os.walk(path + '\\Original'):\n",
    "        for name in files:\n",
    "            if name != '.DS_Store':\n",
    "                \n",
    "                # load image\n",
    "                image = plt.imread(os.path.join(path,'Original', name))\n",
    "                \n",
    "            \n",
    "                # compute correlations between each line and the next line of pixels\n",
    "                correlations = []\n",
    "                for i in range(image.shape[0]-1):\n",
    "                    corr, _ = pearsonr(image[i][:].flatten(), image[i+1][:].flatten())\n",
    "                    correlations.append(corr)\n",
    "\n",
    "                # True if correlation < 0 \n",
    "                correlations = np.array(correlations)\n",
    "                low_correlations = correlations < 0\n",
    "\n",
    "                # if two lines in a row have negative correlations with their next lines, cute image from there\n",
    "                for i in range(len(low_correlations)):\n",
    "                    if low_correlations[i] and low_correlations[i+1]:\n",
    "                        output = image[i:][:][:]\n",
    "                        \n",
    "                # save output image in Processed_Correlations \n",
    "                new_name= change_name(name)\n",
    "                original_name= name\n",
    "                print('The origional name:' + original_name)\n",
    "                plt.imsave(path +'\\\\Processed_Correlations\\\\' + new_name + '.jpg', output)\n",
    "                print('The new name:' + new_name)\n",
    "                \n"
   ]
  },
  {
   "cell_type": "code",
   "execution_count": 20,
   "metadata": {},
   "outputs": [
    {
     "name": "stdout",
     "output_type": "stream",
     "text": [
      "The origional name:49999_4-3-19_UELAND_FRED(1).jpg\n",
      "The new name:49999_4-3-19_xxxxxx_xxxx(1).xxx\n",
      "The origional name:49999_4-3-19_UELAND_FRED(2).jpg\n",
      "The new name:49999_4-3-19_xxxxxx_xxxx(2).xxx\n",
      "The origional name:49999_4-3-19_UELAND_FRED(3).jpg\n",
      "The new name:49999_4-3-19_xxxxxx_xxxx(3).xxx\n",
      "The origional name:4999_5-14-19_VANNAGELL_1.jpg\n",
      "The new name:4999_5-14-19_xxxxxxxxx_1.xxx\n",
      "The origional name:4999_5-14-19_VANNAGELL_2.jpg\n",
      "The new name:4999_5-14-19_xxxxxxxxx_2.xxx\n",
      "The origional name:4999_5-14-19_VANNAGELL_3.jpg\n",
      "The new name:4999_5-14-19_xxxxxxxxx_3.xxx\n",
      "The origional name:5769_5-7-19_PAVLIK_ED-1.jpg\n",
      "The new name:5769_5-7-19_xxxxxx_xx-1.xxx\n",
      "The origional name:5769_5-7-19_PAVLIK_ED-2.jpg\n",
      "The new name:5769_5-7-19_xxxxxx_xx-2.xxx\n",
      "The origional name:5769_5-7-19_PAVLIK_ED-3.jpg\n",
      "The new name:5769_5-7-19_xxxxxx_xx-3.xxx\n",
      "The origional name:801_5-1-19_DIETRICH_CHUCK_1.jpg\n",
      "The new name:801_5-1-19_xxxxxxxx_xxxxx_1.xxx\n",
      "The origional name:801_5-1-19_DIETRICH_CHUCK_2.jpg\n",
      "The new name:801_5-1-19_xxxxxxxx_xxxxx_2.xxx\n",
      "The origional name:801_5-1-19_DIETRICH_CHUCK_3.jpg\n",
      "The new name:801_5-1-19_xxxxxxxx_xxxxx_3.xxx\n"
     ]
    }
   ],
   "source": [
    "procees_images_with_correlations()"
   ]
  }
 ],
 "metadata": {
  "kernelspec": {
   "display_name": "Python 3 (ipykernel)",
   "language": "python",
   "name": "python3"
  },
  "language_info": {
   "codemirror_mode": {
    "name": "ipython",
    "version": 3
   },
   "file_extension": ".py",
   "mimetype": "text/x-python",
   "name": "python",
   "nbconvert_exporter": "python",
   "pygments_lexer": "ipython3",
   "version": "3.9.7"
  }
 },
 "nbformat": 4,
 "nbformat_minor": 4
}
